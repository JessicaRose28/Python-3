{
 "cells": [
  {
   "cell_type": "markdown",
   "metadata": {},
   "source": [
    "Exercise 1. Ask for a color and store that answer. \n",
    "If the answer is grey then print out you found Victor's favorite color.\n",
    "Otherwise print out the color is not Victor's favorite color."
   ]
  },
  {
   "cell_type": "code",
   "execution_count": null,
   "metadata": {},
   "outputs": [],
   "source": [
    "color1 = str(input(\"Enter in a color: \"))\n",
    "\n",
    "\n",
    "if color1 == \"grey\":\n",
    "    print(\"You found Victor's favorite color.\")\n",
    "else :\n",
    "    print(f\"{color1} is not Victor's favorite color.\")\n",
    "    \n",
    "print(\"Bye!\")"
   ]
  },
  {
   "cell_type": "markdown",
   "metadata": {},
   "source": [
    "Exercise 2. Modify code from above exercise 1 and add in more conditions for other colors such as red, green, blue and then, write statements for them. "
   ]
  },
  {
   "cell_type": "code",
   "execution_count": null,
   "metadata": {},
   "outputs": [],
   "source": [
    "color1 = str(input(\"Enter in a color: \"))\n",
    "\n",
    "color_answer = \"grey\"\n",
    "\n",
    "if color1 == \"grey\" :\n",
    "    print(\"You found Victor's favorite color.\")\n",
    "elif color1 == \"red\" :\n",
    "    print(\"You found Victor's second favorite color.\")\n",
    "elif color1 == \"green\" :\n",
    "    print(\"You found Victor's third favorite color.\")\n",
    "elif color1 == \"blue\" :\n",
    "    print(\"You found Victor's fourth favorite color.\")\n",
    "else :\n",
    "    print(f\"{color1} is not Victor's favorite color.\")"
   ]
  },
  {
   "cell_type": "markdown",
   "metadata": {},
   "source": [
    "Exercise 3. Ask for an exam score and store that number. If the number is greater than 100, then print out 'You cannot have an exam score higher than 100'. If the number doesn't exceeed 100 but is greater than or equal to 75, then print out 'You did great on your exam!'. Otherwise if they scored lower than 75, then print out 'You need to study harder'."
   ]
  },
  {
   "cell_type": "code",
   "execution_count": null,
   "metadata": {},
   "outputs": [],
   "source": [
    "exam_score = float(input(\"Enter in your exam score: \"))\n",
    "if exam_score > 100 :\n",
    "    print(\"You cannot have an exam score higher than 100\")\n",
    "elif exam_score >= 75 :\n",
    "    print(\"You did great on your exam!\")\n",
    "else :\n",
    "    print(\"You need to study harder\")\n",
    "    "
   ]
  },
  {
   "cell_type": "markdown",
   "metadata": {},
   "source": [
    "Exercise 4. \n",
    "Define two functions: \n",
    "    - a function that takes 3 arguements and returns the sum of three arguements\n",
    "    - a function that takes 2 arguements and returns the result of 1st arguement multiplied by 2nd arguement\n",
    "\n",
    "Then tell the user to choose option 1 to add three numbers or option 2 to multiply two numbers.\n",
    "If the user choose option 1 then call the addition function, otherwise if they choose option 2 then call the mulitplication function.  If the user choose anything other than option 1 or 2, then generate a friendly error messsage"
   ]
  },
  {
   "cell_type": "code",
   "execution_count": null,
   "metadata": {},
   "outputs": [],
   "source": [
    "def calculation1(parm1, parm2, parm3) :       #addition function \n",
    "    return parm1 + parm2 + parm3\n",
    "    \n",
    "def calculation2(parm1, parm2) :              #multiplication function\n",
    "    return parm1 * parm2   \n",
    "\n",
    "print(\"Choose '1' to add three numbers or '2' to multiply two numbers: \")\n",
    "choice = int(input(\"Enter your choice: \"))\n",
    "\n",
    "if choice == 1 :\n",
    "    parm1 = int(input(\"Enter a number: \"))\n",
    "    parm2 = int(input(\"Enter a second number: \"))\n",
    "    parm3 = int(input(\"Enter a third number: \"))\n",
    "    print(f\"{parm1} + {parm2} + {parm3} = {calculation1(parm1, parm2, parm3)}\")\n",
    "elif choice == 2 :\n",
    "    parm1 = int(input(\"Enter a number: \"))\n",
    "    parm2 = int(input(\"Enter a second number: \"))\n",
    "    print(f\"{parm1} * {parm2} = {calculation2(parm1, parm2)}\")\n",
    "else :\n",
    "      print(f\"Choice {choice} is invalid\")"
   ]
  },
  {
   "cell_type": "markdown",
   "metadata": {},
   "source": [
    "Exercise 5. \n",
    "Write a function to convert a test score to a grade where  \n",
    " - 90 - 100: A\n",
    " - 80 - 89:  B\n",
    " - 70 - 79:  C\n",
    " - 60 - 69:  D\n",
    " - < 60   :  F\n",
    " \n",
    "If a score is not between 0 and 100 then print out an error message. In the program, ask the user for a score and then call your function. "
   ]
  },
  {
   "cell_type": "code",
   "execution_count": null,
   "metadata": {},
   "outputs": [],
   "source": [
    "import sys\n",
    "def test_score(x) :\n",
    "    if 100 < x or x < 0 :\n",
    "        message = \"Score must be between 0 and 100\"\n",
    "    elif x >= 90 :\n",
    "        message = \"Grade is A\" \n",
    "    elif x  >= 80 :   \n",
    "        message = \"Grade is B\"\n",
    "    elif x >= 70 :\n",
    "        message = \"Grade is C\"\n",
    "    elif x >= 60 :\n",
    "        message = \"Grade is D\"\n",
    "    else :\n",
    "        message = \"Grade is F\"\n",
    "        \n",
    "    return message\n",
    "        \n",
    "x = int(input(\"Enter in your test score: \"))\n",
    "\n",
    "print(test_score(x))"
   ]
  },
  {
   "cell_type": "markdown",
   "metadata": {},
   "source": [
    "Exercise 6. Write a program to compute discounts for customers.  \n",
    "- For retail customers, \n",
    "    - if invoice total is greater than \\$100 then discount rate is 10\\%, otherwise no discount \n",
    "\n",
    "- For wholesale customers,\n",
    "    - if invoice total is greater than \\$500 then discount rate is 30\\%, otherwise discount rate is 20\\%\n",
    "    \n",
    "Get the type of customer and the invoice total from the user."
   ]
  },
  {
   "cell_type": "code",
   "execution_count": null,
   "metadata": {},
   "outputs": [],
   "source": [
    "#get user input \n",
    "customer_type = input(\"Enter customer type (r/w): \\t\")\n",
    "invoice_total = float(input(\"Enter invoice total:\\t\"))\n",
    "\n",
    "if customer_type.lower() == \"r\" :  #discount for retail customers\n",
    "    if invoice_total > 100 :\n",
    "        discount = .1\n",
    "        \n",
    "    else :\n",
    "        discount = 0\n",
    "elif customer_type.lower() == \"w\" : #discount for wholesale customers\n",
    "    if invoice_total > 500 : \n",
    "        discount = .3\n",
    "    else : \n",
    "        discount = .2\n",
    "else :\n",
    "    discount = 0 \n",
    "\n",
    "discount_amount = invoice_total * discount \n",
    "new_total = invoice_total - discount_amount\n",
    "\n",
    "print(f\"\\nInvoice total:\\t${invoice_total:,.2f}\")\n",
    "print(f\"\\nDiscount percent:\\t{discount*100:.0f}%\")\n",
    "print(f\"\\nDiscount amount:\\t${discount_amount:,.2f}\")\n",
    "print(f\"\\nNew invoice total:\\t${new_total:,.2f}\")\n",
    "    "
   ]
  },
  {
   "cell_type": "markdown",
   "metadata": {},
   "source": [
    "Exercise 7: Write a function that accepts two parameters (a and b) and returns a result of a/b.  In this function, try to catch any exception error.  Then, write a program to get two numbers from a user, call your function using these two numbers, and print out the result in a friendly format.  All input and print statements must be done in the main program. Repeat the process until user wants to quit the program. "
   ]
  },
  {
   "cell_type": "code",
   "execution_count": null,
   "metadata": {},
   "outputs": [],
   "source": [
    "import sys\n",
    "\n",
    "def division(a,b) :\n",
    "    try:\n",
    "        result = a/b\n",
    "    except: \n",
    "        print(f\"\\n***** ERROR: \", sys.exec_info()[0], \"occurred. *****\\n\")\n",
    "        result = 0 \n",
    "        \n",
    "    return result "
   ]
  },
  {
   "cell_type": "code",
   "execution_count": null,
   "metadata": {},
   "outputs": [],
   "source": [
    "while True: \n",
    "    num1 = int(input(\"Enter the first number: \"))\n",
    "    num2 = int(input(\"Enter the second number: \"))\n",
    "    \n",
    "    result = division(num1, num2)\n",
    "    print(f\"\\n\\n{num1}/{num2}={result}\\n\")\n",
    "    \n",
    "    answer = input(\"Would you like to try again? (y/n) \")\n",
    "    if answer.lower() != \"y\" :\n",
    "        break\n",
    "print(\"Bye!\")"
   ]
  },
  {
   "cell_type": "markdown",
   "metadata": {},
   "source": [
    "Exercise 8: Write a function to generate a multiplication table. Then write a program to ask a user if user wants to generate a  mutiplication table for a random number or provide a number. The program should continue to run until a user wants to quit."
   ]
  },
  {
   "cell_type": "code",
   "execution_count": null,
   "metadata": {},
   "outputs": [],
   "source": [
    "import random as rand\n",
    "\n",
    "\n",
    "def multi_table(numb) :\n",
    "    count = 1\n",
    "    while count < 10 :\n",
    "        print(f\"{numb} x {count} = {numb*count}\")\n",
    "        count += 1\n",
    "        \n",
    "    return\n"
   ]
  },
  {
   "cell_type": "code",
   "execution_count": null,
   "metadata": {},
   "outputs": [],
   "source": [
    "print(\"Welcome to Multiplication Table Program\\n\\n\")\n",
    "\n",
    "while True :\n",
    "    answer = input(\"Do you want to randomly generate a multiplication table? (y/n)\")\n",
    "\n",
    "    if answer.lower() == 'y' :\n",
    "        numb = rand.randint(1, 9)\n",
    "    else :\n",
    "        numb = int(input(\"Enter a number: \"))\n",
    "            \n",
    "    multi_table(numb)\n",
    "    answer = input(\"Do you want to try again? (y/n)\")\n",
    "        \n",
    "    if answer.lower() == 'n' :\n",
    "        break\n",
    "        \n",
    "print(\"Bye!\")"
   ]
  },
  {
   "cell_type": "code",
   "execution_count": null,
   "metadata": {},
   "outputs": [],
   "source": []
  },
  {
   "cell_type": "markdown",
   "metadata": {},
   "source": [
    "Exercise 9: Write a function to draw a right-triangle using a number as a character.Then, write a program to generate a random number between 1 and 9, call your function with that random number.  The output should look something like this:\n",
    "\n",
    "        base: 5\n",
    "        5\n",
    "        55\n",
    "        555\n",
    "        5555\n",
    "        55555\n",
    "\n",
    "\n",
    "        base: 8\n",
    "        8\n",
    "        88\n",
    "        888\n",
    "        8888\n",
    "        88888\n",
    "        888888\n",
    "        8888888\n",
    "        88888888"
   ]
  },
  {
   "cell_type": "code",
   "execution_count": null,
   "metadata": {},
   "outputs": [],
   "source": [
    "import random as rand\n",
    "\n",
    "def draw_triangle(numb) :\n",
    "    count = 1\n",
    "    symbol = str(numb)\n",
    "    while count <= numb :\n",
    "        print(f\"{symbol*count}\")\n",
    "        count += 1\n",
    "        \n",
    "    return"
   ]
  },
  {
   "cell_type": "code",
   "execution_count": null,
   "metadata": {},
   "outputs": [],
   "source": [
    "ran_no = rand.randint(1, 9) \n",
    "print(f\"base: {ran_no}\")\n",
    "draw_triangle(ran_no)    "
   ]
  },
  {
   "cell_type": "markdown",
   "metadata": {},
   "source": [
    "Exercise 10: Modify function from exercise 9 to show output like this:\n",
    "\n",
    "        base: 5\n",
    "            5\n",
    "           55\n",
    "          555\n",
    "         5555 \n",
    "        55555\n",
    "        \n",
    "        base: 8\n",
    "               8\n",
    "              88\n",
    "             888\n",
    "            8888\n",
    "           88888\n",
    "          888888\n",
    "         8888888\n",
    "        88888888 "
   ]
  },
  {
   "cell_type": "code",
   "execution_count": null,
   "metadata": {},
   "outputs": [],
   "source": [
    "def draw_triangle2(numb) :\n",
    "    count = 1\n",
    "    symbol = str(numb)\n",
    "    blank = ' '\n",
    "    blank_no = 9\n",
    "    \n",
    "    while count <= numb :\n",
    "        print(f\"{blank*blank_no}{symbol*count}\")\n",
    "        count += 1\n",
    "        blank_no -= 1\n",
    "        \n",
    "    return"
   ]
  },
  {
   "cell_type": "code",
   "execution_count": null,
   "metadata": {},
   "outputs": [],
   "source": [
    "ran_no = rand.randint(1, 9) \n",
    "print(f\"base: {ran_no}\")\n",
    "draw_triangle2(ran_no)    "
   ]
  },
  {
   "cell_type": "code",
   "execution_count": null,
   "metadata": {},
   "outputs": [],
   "source": []
  },
  {
   "cell_type": "code",
   "execution_count": null,
   "metadata": {},
   "outputs": [],
   "source": []
  }
 ],
 "metadata": {
  "kernelspec": {
   "display_name": "Python 3 (ipykernel)",
   "language": "python",
   "name": "python3"
  },
  "language_info": {
   "codemirror_mode": {
    "name": "ipython",
    "version": 3
   },
   "file_extension": ".py",
   "mimetype": "text/x-python",
   "name": "python",
   "nbconvert_exporter": "python",
   "pygments_lexer": "ipython3",
   "version": "3.9.13"
  },
  "vscode": {
   "interpreter": {
    "hash": "aee8b7b246df8f9039afb4144a1f6fd8d2ca17a180786b69acc140d282b71a49"
   }
  }
 },
 "nbformat": 4,
 "nbformat_minor": 4
}
